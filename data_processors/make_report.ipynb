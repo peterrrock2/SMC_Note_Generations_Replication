{
 "cells": [
  {
   "cell_type": "code",
   "execution_count": 1,
   "metadata": {},
   "outputs": [],
   "source": [
    "import matplotlib.pyplot as plt \n",
    "import seaborn as sns\n",
    "import pandas as pd\n",
    "import glob\n",
    "import numpy as np\n",
    "import os"
   ]
  },
  {
   "cell_type": "code",
   "execution_count": 2,
   "metadata": {},
   "outputs": [],
   "source": [
    "final_df = pd.DataFrame()\n",
    "file_list = glob.glob(\"../examples/outputs/**/*.csv\", recursive=True)"
   ]
  },
  {
   "cell_type": "code",
   "execution_count": 3,
   "metadata": {},
   "outputs": [],
   "source": [
    "name_list = file_list[0].split(\"/\")\n",
    "\n",
    "file_name = name_list[-1].split(\".\")[0]"
   ]
  },
  {
   "cell_type": "code",
   "execution_count": 4,
   "metadata": {},
   "outputs": [
    {
     "data": {
      "text/plain": [
       "['..',\n",
       " 'examples',\n",
       " 'outputs',\n",
       " '50x50_grid',\n",
       " '45079254_50x50_grid_to_50_with_20_sims.csv']"
      ]
     },
     "execution_count": 4,
     "metadata": {},
     "output_type": "execute_result"
    }
   ],
   "source": [
    "name_list"
   ]
  },
  {
   "cell_type": "code",
   "execution_count": 5,
   "metadata": {},
   "outputs": [],
   "source": [
    "def add_full_csv(full_file_name, final_df):\n",
    "    df = pd.read_csv(full_file_name)\n",
    "    \n",
    "    name_list = full_file_name.split(\"/\")\n",
    "    file_name = name_list[-1].split(\".\")[0]\n",
    "    shapefile = name_list[3]\n",
    "    \n",
    "    new_rows = []\n",
    "\n",
    "    max_dist = df['district'].max()\n",
    "\n",
    "    for i, district_df in df.groupby('district'):\n",
    "        if i == max_dist:\n",
    "            continue\n",
    "\n",
    "        district_df = df[df['district'] == i]\n",
    "        i_max = district_df['b1_probs'].max()\n",
    "        i_med = district_df[\"b1_probs\"].median()\n",
    "\n",
    "        nonzero_probs = district_df[district_df['b1_probs'] != 0]['b1_probs']\n",
    "        i_min = nonzero_probs.min() if not nonzero_probs.empty else 0\n",
    "\n",
    "        ratio_min = i_max / i_min if i_min != 0 else None\n",
    "        ratio_med = i_max / i_med\n",
    "\n",
    "        new_rows.append({\"Shapefile\": shapefile,\n",
    "                         \"File Name\": file_name,\n",
    "                         \"Generation\": i, \n",
    "                         \"Max\": i_max, \n",
    "                         \"Min\": i_min, \n",
    "                         \"Median\": i_med,\n",
    "                         \"Ratio Max to Min\": ratio_min,\n",
    "                         \"Ratio Max to Median\": ratio_med})\n",
    "\n",
    "\n",
    "\n",
    "    new_df = pd.DataFrame(new_rows, columns=[\"Shapefile\",\n",
    "                                             \"File Name\",\n",
    "                                             \"Generation\", \n",
    "                                             \"Max\", \n",
    "                                             \"Min\", \n",
    "                                             \"Median\",\n",
    "                                             \"Ratio Max to Min\",\n",
    "                                             \"Ratio Max to Median\"])\n",
    "    \n",
    "    \n",
    "    final_df = pd.concat([final_df, new_df])\n",
    "    \n",
    "    return final_df\n",
    "    "
   ]
  },
  {
   "cell_type": "code",
   "execution_count": 6,
   "metadata": {},
   "outputs": [],
   "source": [
    "me_df = pd.DataFrame()\n",
    "\n",
    "for name in file_list:\n",
    "    me_df = add_full_csv(name, me_df)\n",
    "\n",
    "os.mkdir(\"../examples/report\", exist_ok=True)\n",
    "    \n",
    "me_df.to_csv(\"../examples/report/SMC_full_data_output_(max,min,ratios).csv\", index=False);"
   ]
  },
  {
   "cell_type": "code",
   "execution_count": 7,
   "metadata": {},
   "outputs": [],
   "source": [
    "# me_df = pd.read_csv(\"./report/SMC_full_data_output_(max,min,ratios).csv\")"
   ]
  },
  {
   "cell_type": "code",
   "execution_count": 8,
   "metadata": {},
   "outputs": [],
   "source": [
    "worst_max_min_ratios_by_run = pd.DataFrame()\n",
    "for _, b in me_df.groupby(\"Shapefile\"):\n",
    "    worst_max_min_ratios_by_run = pd.concat([worst_max_min_ratios_by_run, b.nlargest(1,\"Ratio Max to Min\")])\n",
    "\n",
    "worst_max_med_ratios_by_run = pd.DataFrame()\n",
    "for _, b in me_df.groupby(\"Shapefile\"):\n",
    "    worst_max_med_ratios_by_run = pd.concat([worst_max_med_ratios_by_run, b.nlargest(1,\"Ratio Max to Median\")])"
   ]
  },
  {
   "cell_type": "code",
   "execution_count": 10,
   "metadata": {},
   "outputs": [],
   "source": [
    "worst_max_min_ratios_by_run.to_csv(\"../examples/report/SMC_largest_Max:Min_ratios_by_run.csv\", index=False)\n",
    "worst_max_med_ratios_by_run.to_csv(\"../examples/report/SMC_largest_Max:Median_ratios_by_run.csv\", index=False)"
   ]
  },
  {
   "cell_type": "code",
   "execution_count": 11,
   "metadata": {},
   "outputs": [],
   "source": [
    "average_max_min_by_shapefile = me_df.groupby(\"Shapefile\")[\"Ratio Max to Min\"].mean().reset_index()\n",
    "average_max_min_by_shapefile.rename(columns={'Ratio Max to Min': 'Max:Min Average'}, inplace=True)\n",
    "\n",
    "\n",
    "average_max_med_by_shapefile = me_df.groupby(\"Shapefile\")[\"Ratio Max to Median\"].mean().reset_index()\n",
    "average_max_med_by_shapefile.rename(columns={'Ratio Max to Median': 'Max:Median Average'}, inplace=True)\n"
   ]
  },
  {
   "cell_type": "code",
   "execution_count": 12,
   "metadata": {},
   "outputs": [],
   "source": [
    "average_max_min_by_shapefile.to_csv(\"../examples/report/Average_Max:Min_by_shapefile(all_runs).csv\", index=False)\n",
    "average_max_med_by_shapefile.to_csv(\"../examples/report/Average_Max:Median_by_shapefile(all_runs).csv\", index=False)"
   ]
  },
  {
   "cell_type": "code",
   "execution_count": null,
   "metadata": {},
   "outputs": [],
   "source": []
  }
 ],
 "metadata": {
  "kernelspec": {
   "display_name": "Python 3",
   "language": "python",
   "name": "python3"
  },
  "language_info": {
   "codemirror_mode": {
    "name": "ipython",
    "version": 3
   },
   "file_extension": ".py",
   "mimetype": "text/x-python",
   "name": "python",
   "nbconvert_exporter": "python",
   "pygments_lexer": "ipython3",
   "version": "3.11.6"
  }
 },
 "nbformat": 4,
 "nbformat_minor": 2
}
