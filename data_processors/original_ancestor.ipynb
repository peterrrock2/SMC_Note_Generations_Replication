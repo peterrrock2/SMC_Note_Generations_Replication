{
 "cells": [
  {
   "cell_type": "code",
   "execution_count": 1,
   "metadata": {},
   "outputs": [],
   "source": [
    "import pandas as pd\n",
    "import networkx as nx\n",
    "import glob"
   ]
  },
  {
   "cell_type": "code",
   "execution_count": 2,
   "metadata": {},
   "outputs": [],
   "source": [
    "file_list = glob.glob(\"../examples/outputs/CA_cd_2020_map/*.csv\")\n",
    "processed_files_prefix = \"../examples/reports/CA_cd_2020_map_to_52_\""
   ]
  },
  {
   "cell_type": "code",
   "execution_count": 3,
   "metadata": {},
   "outputs": [
    {
     "data": {
      "text/plain": [
       "5"
      ]
     },
     "execution_count": 3,
     "metadata": {},
     "output_type": "execute_result"
    }
   ],
   "source": [
    "len(file_list)"
   ]
  },
  {
   "cell_type": "code",
   "execution_count": 4,
   "metadata": {},
   "outputs": [],
   "source": [
    "me_df = pd.DataFrame()\n",
    "file_name_list = []\n",
    "\n",
    "# The value -1 is meant to indicate that the mega \n",
    "# parent does not exist. This is overwritten if \n",
    "# the parent is found to exist.\n",
    "counts = [-1 for i in range(len(file_list))]\n",
    "\n",
    "for file_name in file_list:\n",
    "    file_name_list.append(file_name.split(\"/\")[-1].split(\".\")[0])\n",
    "    \n",
    "    \n",
    "me_df[\"File Name\"] = file_name_list\n",
    "me_df[\"Number Original Ancestors\"] = counts\n",
    "me_df[\"Mega Parent 0.01\"] = counts\n",
    "me_df[\"Mega Parent 0.10\"] = counts\n",
    "me_df[\"Mega Parent 0.25\"] = counts\n",
    "me_df[\"Mega Parent 0.50\"] = counts\n",
    "me_df[\"Mega Parent 0.75\"] = counts\n",
    "me_df[\"Mega Parent 1.00\"] = counts"
   ]
  },
  {
   "cell_type": "code",
   "execution_count": 5,
   "metadata": {},
   "outputs": [],
   "source": [
    "def add_orig_count(file_name, new_df):\n",
    "    df = pd.read_csv(file_name)\n",
    "\n",
    "    n_simulations = df[\"draw\"].max() \n",
    "    n_districts = df[\"district\"].max()\n",
    "\n",
    "    graph = nx.grid_2d_graph(n_simulations, n_districts)\n",
    "    graph.remove_edges_from(graph.edges())\n",
    "    \n",
    "    good_node_set = set()\n",
    "    \n",
    "    for node, attrs in graph.nodes(data=True):\n",
    "        attrs[\"n_descendents\"] = 0 \n",
    "    \n",
    "    for i in range(0,1):\n",
    "        progenitor_vector = df[df[\"district\"] == n_districts - i][\"parent\"] - 1\n",
    "        for old, new in enumerate(progenitor_vector):\n",
    "            graph.add_edge((old, i), (new, i + 1))\n",
    "            graph.nodes[(new, i+1)][\"n_descendents\"] += 1\n",
    "            good_node_set.add((new, i+1))\n",
    "        \n",
    "    for i in range(1,n_districts-1):\n",
    "        progenitor_vector = df[df[\"district\"] == n_districts - i][\"parent\"] - 1\n",
    "        for old, new in enumerate(progenitor_vector):\n",
    "            if graph.degree((old,i)) > 0:\n",
    "                graph.add_edge((old, i), (new, i + 1))\n",
    "                graph.nodes[(new, i+1)][\"n_descendents\"] += graph.nodes[(old, i)][\"n_descendents\"]\n",
    "                good_node_set.add((new, i+1))\n",
    "\n",
    "    good_node_list = list(good_node_set) \n",
    "   \n",
    "    # So that we start from the top and work our way down \n",
    "    good_node_list.sort(key=lambda item: (-item[1], item[0]))\n",
    "\n",
    "\n",
    "    runfile_name = file_name.split(\"/\")[-1].split(\".\")[0]\n",
    "    count = 0\n",
    "    for i in range(n_simulations):\n",
    "        count += graph.degree((i, n_districts - 1)) > 0\n",
    "    \n",
    "    new_df.loc[new_df[\"File Name\"] == runfile_name, \"Number Original Ancestors\"] = count\n",
    "    \n",
    "    thresholds = [0.01, 0.1, 0.25, 0.5, 0.75, 1.0]\n",
    "\n",
    "    for node in good_node_list:\n",
    "        generation = n_districts - node[1]\n",
    "        share = graph.nodes[node][\"n_descendents\"]\n",
    "\n",
    "        for threshold in thresholds:\n",
    "            if share >= threshold * n_simulations:\n",
    "                column_name = f\"Mega Parent {threshold:.2f}\"\n",
    "                new_df.loc[new_df[\"File Name\"] == runfile_name, column_name] = generation\n",
    "            else:\n",
    "                break  # Break the loop if a threshold is not met\n",
    "\n",
    "    print(f\"Processed {file_name}\")\n",
    "    "
   ]
  },
  {
   "cell_type": "code",
   "execution_count": 6,
   "metadata": {},
   "outputs": [
    {
     "name": "stdout",
     "output_type": "stream",
     "text": [
      "Processed ../examples/outputs/CA_cd_2020_map/14328277_CA_cd_2020_map_with_20_sims.csv\n",
      "Processed ../examples/outputs/CA_cd_2020_map/3654992_CA_cd_2020_map_with_20_sims.csv\n",
      "Processed ../examples/outputs/CA_cd_2020_map/80191041_CA_cd_2020_map_with_20_sims.csv\n",
      "Processed ../examples/outputs/CA_cd_2020_map/45079254_CA_cd_2020_map_with_20_sims.csv\n",
      "Processed ../examples/outputs/CA_cd_2020_map/93906742_CA_cd_2020_map_with_20_sims.csv\n"
     ]
    }
   ],
   "source": [
    "for file in file_list:\n",
    "    add_orig_count(file, me_df)"
   ]
  },
  {
   "cell_type": "code",
   "execution_count": 7,
   "metadata": {},
   "outputs": [],
   "source": [
    "import os\n",
    "\n",
    "file_name = f\"{processed_files_prefix}{len(file_list)}_results_ancestors_and_phi.csv\"\n",
    "\n",
    "dir_name = os.path.dirname(file_name)\n",
    "\n",
    "os.makedirs(dir_name, exist_ok=True)\n",
    "\n",
    "me_df.to_csv(file_name, index=False)"
   ]
  },
  {
   "cell_type": "code",
   "execution_count": 8,
   "metadata": {},
   "outputs": [
    {
     "data": {
      "text/html": [
       "<div>\n",
       "<style scoped>\n",
       "    .dataframe tbody tr th:only-of-type {\n",
       "        vertical-align: middle;\n",
       "    }\n",
       "\n",
       "    .dataframe tbody tr th {\n",
       "        vertical-align: top;\n",
       "    }\n",
       "\n",
       "    .dataframe thead th {\n",
       "        text-align: right;\n",
       "    }\n",
       "</style>\n",
       "<table border=\"1\" class=\"dataframe\">\n",
       "  <thead>\n",
       "    <tr style=\"text-align: right;\">\n",
       "      <th></th>\n",
       "      <th>File Name</th>\n",
       "      <th>Number Original Ancestors</th>\n",
       "      <th>Mega Parent 0.01</th>\n",
       "      <th>Mega Parent 0.10</th>\n",
       "      <th>Mega Parent 0.25</th>\n",
       "      <th>Mega Parent 0.50</th>\n",
       "      <th>Mega Parent 0.75</th>\n",
       "      <th>Mega Parent 1.00</th>\n",
       "    </tr>\n",
       "  </thead>\n",
       "  <tbody>\n",
       "    <tr>\n",
       "      <th>0</th>\n",
       "      <td>14328277_CA_cd_2020_map_with_20_sims</td>\n",
       "      <td>1</td>\n",
       "      <td>51</td>\n",
       "      <td>51</td>\n",
       "      <td>51</td>\n",
       "      <td>51</td>\n",
       "      <td>45</td>\n",
       "      <td>34</td>\n",
       "    </tr>\n",
       "    <tr>\n",
       "      <th>1</th>\n",
       "      <td>3654992_CA_cd_2020_map_with_20_sims</td>\n",
       "      <td>1</td>\n",
       "      <td>51</td>\n",
       "      <td>51</td>\n",
       "      <td>51</td>\n",
       "      <td>50</td>\n",
       "      <td>44</td>\n",
       "      <td>44</td>\n",
       "    </tr>\n",
       "    <tr>\n",
       "      <th>2</th>\n",
       "      <td>80191041_CA_cd_2020_map_with_20_sims</td>\n",
       "      <td>1</td>\n",
       "      <td>51</td>\n",
       "      <td>51</td>\n",
       "      <td>50</td>\n",
       "      <td>50</td>\n",
       "      <td>49</td>\n",
       "      <td>44</td>\n",
       "    </tr>\n",
       "    <tr>\n",
       "      <th>3</th>\n",
       "      <td>45079254_CA_cd_2020_map_with_20_sims</td>\n",
       "      <td>1</td>\n",
       "      <td>51</td>\n",
       "      <td>51</td>\n",
       "      <td>51</td>\n",
       "      <td>50</td>\n",
       "      <td>49</td>\n",
       "      <td>48</td>\n",
       "    </tr>\n",
       "    <tr>\n",
       "      <th>4</th>\n",
       "      <td>93906742_CA_cd_2020_map_with_20_sims</td>\n",
       "      <td>1</td>\n",
       "      <td>51</td>\n",
       "      <td>51</td>\n",
       "      <td>51</td>\n",
       "      <td>50</td>\n",
       "      <td>50</td>\n",
       "      <td>46</td>\n",
       "    </tr>\n",
       "  </tbody>\n",
       "</table>\n",
       "</div>"
      ],
      "text/plain": [
       "                              File Name  Number Original Ancestors  \\\n",
       "0  14328277_CA_cd_2020_map_with_20_sims                          1   \n",
       "1   3654992_CA_cd_2020_map_with_20_sims                          1   \n",
       "2  80191041_CA_cd_2020_map_with_20_sims                          1   \n",
       "3  45079254_CA_cd_2020_map_with_20_sims                          1   \n",
       "4  93906742_CA_cd_2020_map_with_20_sims                          1   \n",
       "\n",
       "   Mega Parent 0.01  Mega Parent 0.10  Mega Parent 0.25  Mega Parent 0.50  \\\n",
       "0                51                51                51                51   \n",
       "1                51                51                51                50   \n",
       "2                51                51                50                50   \n",
       "3                51                51                51                50   \n",
       "4                51                51                51                50   \n",
       "\n",
       "   Mega Parent 0.75  Mega Parent 1.00  \n",
       "0                45                34  \n",
       "1                44                44  \n",
       "2                49                44  \n",
       "3                49                48  \n",
       "4                50                46  "
      ]
     },
     "execution_count": 8,
     "metadata": {},
     "output_type": "execute_result"
    }
   ],
   "source": [
    "me_df"
   ]
  },
  {
   "cell_type": "code",
   "execution_count": null,
   "metadata": {},
   "outputs": [],
   "source": []
  }
 ],
 "metadata": {
  "kernelspec": {
   "display_name": "Python 3",
   "language": "python",
   "name": "python3"
  },
  "language_info": {
   "codemirror_mode": {
    "name": "ipython",
    "version": 3
   },
   "file_extension": ".py",
   "mimetype": "text/x-python",
   "name": "python",
   "nbconvert_exporter": "python",
   "pygments_lexer": "ipython3",
   "version": "3.11.6"
  }
 },
 "nbformat": 4,
 "nbformat_minor": 2
}
